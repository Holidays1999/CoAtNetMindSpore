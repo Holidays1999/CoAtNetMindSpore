{
 "cells": [
  {
   "cell_type": "code",
   "execution_count": null,
   "id": "dd6e47a3",
   "metadata": {},
   "outputs": [],
   "source": [
    "import torch\n",
    "import numpy as np\n",
    "import mindspore\n",
    "from mindspore import Tensor, dtype\n",
    "from mindspore import save_checkpoint\n",
    "from mindspore import Parameter\n",
    "model = torch.load(\"cswin_small_224.pth\", map_location='cpu')['state_dict_ema']"
   ]
  },
  {
   "cell_type": "code",
   "execution_count": null,
   "id": "d3f5729f",
   "metadata": {
    "scrolled": false
   },
   "outputs": [],
   "source": [
    "model_keys = []\n",
    "nums = 0.\n",
    "for key in model.keys():\n",
    "    if \"num_batches_tracked\" not in key:\n",
    "        model_keys.append(key)\n",
    "        nums += model[key].numel()\n",
    "        print(key, model[key].shape)\n",
    "print(nums)"
   ]
  },
  {
   "cell_type": "code",
   "execution_count": null,
   "id": "172d1c5c",
   "metadata": {},
   "outputs": [],
   "source": [
    "weights = []\n",
    "prefix = \"model.\"\n",
    "k = 0\n",
    "for key in model_keys:\n",
    "    name2weight = {}\n",
    "    if \"bn\" in key or \"norm\" in key or \"ln\" in key:\n",
    "        if \"weight\" in key:\n",
    "            name2weight[\"name\"] = prefix + key.replace(\".weight\", \".gamma\")\n",
    "        elif \"bias\" in key:\n",
    "            name2weight[\"name\"] = prefix + key.replace(\".bias\", \".beta\")\n",
    "        elif \"mean\" in key:\n",
    "            name2weight[\"name\"] = prefix + key.replace(\"running_mean\", \"moving_mean\")\n",
    "        elif \"var\" in key:\n",
    "            name2weight[\"name\"] = prefix + key.replace(\"running_var\", \"moving_variance\")\n",
    "        \n",
    "        name2weight[\"data\"] = Parameter(Tensor(model[key].numpy(), dtype.float32),requires_grad=True) \n",
    "        weights.append(name2weight)\n",
    "    else:\n",
    "        data_type = dtype.float32\n",
    "        weight = Parameter(Tensor(model[key].numpy(), data_type),requires_grad=True)\n",
    "        temp = prefix + key\n",
    "        if \"stage1_conv_embed.0\" in temp:\n",
    "            temp = temp.replace(\"0.\", \"\")\n",
    "        if \"stage1_conv_embed.2\" in temp:\n",
    "            temp = temp.replace(\"stage1_conv_embed.2\", \"stage1_conv_norm\")\n",
    "            temp = temp.replace(\".weight\", \".gamma\")\n",
    "            temp = temp.replace(\".bias\", \".beta\")\n",
    "        if \"attns\" in temp:\n",
    "            temp = temp.replace(\"attns\", \"attns.\")\n",
    "        print(temp)\n",
    "        k+=1\n",
    "        weights.append({\"name\": temp, \"data\": weight})\n",
    "#     print(weights[-1]['name'])\n",
    "save_checkpoint(weights, \"cswin_small_224.ckpt\")"
   ]
  },
  {
   "cell_type": "code",
   "execution_count": null,
   "id": "58e81d8a",
   "metadata": {},
   "outputs": [],
   "source": []
  },
  {
   "cell_type": "code",
   "execution_count": null,
   "id": "584be6d2",
   "metadata": {},
   "outputs": [],
   "source": [
    "len(weights)"
   ]
  },
  {
   "cell_type": "code",
   "execution_count": null,
   "id": "52c07e27",
   "metadata": {},
   "outputs": [],
   "source": []
  }
 ],
 "metadata": {
  "kernelspec": {
   "display_name": "Python 3 (ipykernel)",
   "language": "python",
   "name": "python3"
  },
  "language_info": {
   "codemirror_mode": {
    "name": "ipython",
    "version": 3
   },
   "file_extension": ".py",
   "mimetype": "text/x-python",
   "name": "python",
   "nbconvert_exporter": "python",
   "pygments_lexer": "ipython3",
   "version": "3.7.10"
  }
 },
 "nbformat": 4,
 "nbformat_minor": 5
}
